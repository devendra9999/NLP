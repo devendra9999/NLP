{
 "cells": [
  {
   "cell_type": "code",
   "execution_count": 18,
   "metadata": {},
   "outputs": [],
   "source": [
    "import pandas as pd\n",
    "import numpy as np\n",
    "import nltk\n",
    "import os\n",
    "import nltk.corpus"
   ]
  },
  {
   "cell_type": "code",
   "execution_count": 19,
   "metadata": {
    "scrolled": false
   },
   "outputs": [
    {
     "name": "stderr",
     "output_type": "stream",
     "text": [
      "[nltk_data] Downloading package stopwords to\n",
      "[nltk_data]     C:\\Users\\Komma.Devendrakumar\\AppData\\Roaming\\nltk_data\n",
      "[nltk_data]     ...\n",
      "[nltk_data]   Package stopwords is already up-to-date!\n"
     ]
    }
   ],
   "source": [
    "from nltk.corpus import stopwords\n",
    "nltk.download('stopwords')\n",
    "stop = stopwords.words('english')\n",
    "#stop"
   ]
  },
  {
   "cell_type": "code",
   "execution_count": 20,
   "metadata": {},
   "outputs": [
    {
     "data": {
      "text/html": [
       "<div>\n",
       "<style scoped>\n",
       "    .dataframe tbody tr th:only-of-type {\n",
       "        vertical-align: middle;\n",
       "    }\n",
       "\n",
       "    .dataframe tbody tr th {\n",
       "        vertical-align: top;\n",
       "    }\n",
       "\n",
       "    .dataframe thead th {\n",
       "        text-align: right;\n",
       "    }\n",
       "</style>\n",
       "<table border=\"1\" class=\"dataframe\">\n",
       "  <thead>\n",
       "    <tr style=\"text-align: right;\">\n",
       "      <th></th>\n",
       "      <th>description</th>\n",
       "      <th>type</th>\n",
       "      <th>number</th>\n",
       "    </tr>\n",
       "  </thead>\n",
       "  <tbody>\n",
       "    <tr>\n",
       "      <th>0</th>\n",
       "      <td>hi since recruiter lead permission approve req...</td>\n",
       "      <td>Application</td>\n",
       "      <td>1</td>\n",
       "    </tr>\n",
       "    <tr>\n",
       "      <th>1</th>\n",
       "      <td>re expire days hi ask help update passwords co...</td>\n",
       "      <td>Application</td>\n",
       "      <td>2</td>\n",
       "    </tr>\n",
       "    <tr>\n",
       "      <th>2</th>\n",
       "      <td>verification warning hi has got attached pleas...</td>\n",
       "      <td>Application</td>\n",
       "      <td>3</td>\n",
       "    </tr>\n",
       "    <tr>\n",
       "      <th>3</th>\n",
       "      <td>please dear looks blacklisted receiving mails ...</td>\n",
       "      <td>Application</td>\n",
       "      <td>4</td>\n",
       "    </tr>\n",
       "    <tr>\n",
       "      <th>4</th>\n",
       "      <td>dear modules report report cost thank much reg...</td>\n",
       "      <td>Application</td>\n",
       "      <td>5</td>\n",
       "    </tr>\n",
       "  </tbody>\n",
       "</table>\n",
       "</div>"
      ],
      "text/plain": [
       "                                         description         type  number\n",
       "0  hi since recruiter lead permission approve req...  Application       1\n",
       "1  re expire days hi ask help update passwords co...  Application       2\n",
       "2  verification warning hi has got attached pleas...  Application       3\n",
       "3  please dear looks blacklisted receiving mails ...  Application       4\n",
       "4  dear modules report report cost thank much reg...  Application       5"
      ]
     },
     "execution_count": 20,
     "metadata": {},
     "output_type": "execute_result"
    }
   ],
   "source": [
    "df=pd.read_csv(\"C:/Users/Komma.Devendrakumar/Desktop/Cognitive-Project-master/latest_ticket_data.csv\")\n",
    "df.head()"
   ]
  },
  {
   "cell_type": "code",
   "execution_count": 21,
   "metadata": {},
   "outputs": [],
   "source": [
    "from nltk.stem import SnowballStemmer, WordNetLemmatizer\n",
    "snowball_stemmer = SnowballStemmer(\"english\")\n",
    "def stem_sentences(sentence):\n",
    "    tokens = sentence.split()\n",
    "    stemmed_tokens = [snowball_stemmer.stem(token) for token in tokens]\n",
    "    return ' '.join(stemmed_tokens)\n",
    "\n",
    "df['description'] = df['description'].apply(stem_sentences)"
   ]
  },
  {
   "cell_type": "code",
   "execution_count": 22,
   "metadata": {},
   "outputs": [
    {
     "data": {
      "text/html": [
       "<div>\n",
       "<style scoped>\n",
       "    .dataframe tbody tr th:only-of-type {\n",
       "        vertical-align: middle;\n",
       "    }\n",
       "\n",
       "    .dataframe tbody tr th {\n",
       "        vertical-align: top;\n",
       "    }\n",
       "\n",
       "    .dataframe thead th {\n",
       "        text-align: right;\n",
       "    }\n",
       "</style>\n",
       "<table border=\"1\" class=\"dataframe\">\n",
       "  <thead>\n",
       "    <tr style=\"text-align: right;\">\n",
       "      <th></th>\n",
       "      <th>description</th>\n",
       "      <th>type</th>\n",
       "      <th>number</th>\n",
       "    </tr>\n",
       "  </thead>\n",
       "  <tbody>\n",
       "    <tr>\n",
       "      <th>0</th>\n",
       "      <td>hi sinc recruit lead permiss approv requisit m...</td>\n",
       "      <td>Application</td>\n",
       "      <td>1</td>\n",
       "    </tr>\n",
       "    <tr>\n",
       "      <th>1</th>\n",
       "      <td>re expir day hi ask help updat password collea...</td>\n",
       "      <td>Application</td>\n",
       "      <td>2</td>\n",
       "    </tr>\n",
       "    <tr>\n",
       "      <th>2</th>\n",
       "      <td>verif warn hi has got attach pleas address bes...</td>\n",
       "      <td>Application</td>\n",
       "      <td>3</td>\n",
       "    </tr>\n",
       "    <tr>\n",
       "      <th>3</th>\n",
       "      <td>pleas dear look blacklist receiv mail anymor s...</td>\n",
       "      <td>Application</td>\n",
       "      <td>4</td>\n",
       "    </tr>\n",
       "    <tr>\n",
       "      <th>4</th>\n",
       "      <td>dear modul report report cost thank much regard</td>\n",
       "      <td>Application</td>\n",
       "      <td>5</td>\n",
       "    </tr>\n",
       "  </tbody>\n",
       "</table>\n",
       "</div>"
      ],
      "text/plain": [
       "                                         description         type  number\n",
       "0  hi sinc recruit lead permiss approv requisit m...  Application       1\n",
       "1  re expir day hi ask help updat password collea...  Application       2\n",
       "2  verif warn hi has got attach pleas address bes...  Application       3\n",
       "3  pleas dear look blacklist receiv mail anymor s...  Application       4\n",
       "4    dear modul report report cost thank much regard  Application       5"
      ]
     },
     "execution_count": 22,
     "metadata": {},
     "output_type": "execute_result"
    }
   ],
   "source": [
    "df.head()"
   ]
  },
  {
   "cell_type": "code",
   "execution_count": 23,
   "metadata": {},
   "outputs": [],
   "source": [
    "def stop_words(sentence):\n",
    "    tokens = sentence.split() \n",
    "    ss =  [item for item in tokens if not item in stop]\n",
    "    return ' '.join(ss)\n",
    "df['description'] = df['description'].apply(stop_words)"
   ]
  },
  {
   "cell_type": "code",
   "execution_count": 24,
   "metadata": {},
   "outputs": [
    {
     "data": {
      "text/html": [
       "<div>\n",
       "<style scoped>\n",
       "    .dataframe tbody tr th:only-of-type {\n",
       "        vertical-align: middle;\n",
       "    }\n",
       "\n",
       "    .dataframe tbody tr th {\n",
       "        vertical-align: top;\n",
       "    }\n",
       "\n",
       "    .dataframe thead th {\n",
       "        text-align: right;\n",
       "    }\n",
       "</style>\n",
       "<table border=\"1\" class=\"dataframe\">\n",
       "  <thead>\n",
       "    <tr style=\"text-align: right;\">\n",
       "      <th></th>\n",
       "      <th>description</th>\n",
       "      <th>type</th>\n",
       "      <th>number</th>\n",
       "    </tr>\n",
       "  </thead>\n",
       "  <tbody>\n",
       "    <tr>\n",
       "      <th>0</th>\n",
       "      <td>hi sinc recruit lead permiss approv requisit m...</td>\n",
       "      <td>Application</td>\n",
       "      <td>1</td>\n",
       "    </tr>\n",
       "    <tr>\n",
       "      <th>1</th>\n",
       "      <td>expir day hi ask help updat password colleagu ...</td>\n",
       "      <td>Application</td>\n",
       "      <td>2</td>\n",
       "    </tr>\n",
       "    <tr>\n",
       "      <th>2</th>\n",
       "      <td>verif warn hi got attach pleas address best re...</td>\n",
       "      <td>Application</td>\n",
       "      <td>3</td>\n",
       "    </tr>\n",
       "    <tr>\n",
       "      <th>3</th>\n",
       "      <td>pleas dear look blacklist receiv mail anymor s...</td>\n",
       "      <td>Application</td>\n",
       "      <td>4</td>\n",
       "    </tr>\n",
       "    <tr>\n",
       "      <th>4</th>\n",
       "      <td>dear modul report report cost thank much regard</td>\n",
       "      <td>Application</td>\n",
       "      <td>5</td>\n",
       "    </tr>\n",
       "  </tbody>\n",
       "</table>\n",
       "</div>"
      ],
      "text/plain": [
       "                                         description         type  number\n",
       "0  hi sinc recruit lead permiss approv requisit m...  Application       1\n",
       "1  expir day hi ask help updat password colleagu ...  Application       2\n",
       "2  verif warn hi got attach pleas address best re...  Application       3\n",
       "3  pleas dear look blacklist receiv mail anymor s...  Application       4\n",
       "4    dear modul report report cost thank much regard  Application       5"
      ]
     },
     "execution_count": 24,
     "metadata": {},
     "output_type": "execute_result"
    }
   ],
   "source": [
    "df.head()"
   ]
  },
  {
   "cell_type": "code",
   "execution_count": 25,
   "metadata": {},
   "outputs": [
    {
     "data": {
      "text/plain": [
       "Database            600\n",
       "Security            600\n",
       "Network             600\n",
       "Application         600\n",
       "User Maintenance    600\n",
       "Name: type, dtype: int64"
      ]
     },
     "execution_count": 25,
     "metadata": {},
     "output_type": "execute_result"
    }
   ],
   "source": [
    "df['type'].value_counts()"
   ]
  },
  {
   "cell_type": "code",
   "execution_count": 26,
   "metadata": {},
   "outputs": [],
   "source": [
    "X=df['description']\n",
    "y=df['type']"
   ]
  },
  {
   "cell_type": "code",
   "execution_count": 27,
   "metadata": {},
   "outputs": [
    {
     "data": {
      "text/plain": [
       "(2100,)"
      ]
     },
     "execution_count": 27,
     "metadata": {},
     "output_type": "execute_result"
    }
   ],
   "source": [
    "from sklearn.model_selection import train_test_split\n",
    "X_train, X_test, y_train, y_test = train_test_split(X,y,test_size=0.30,random_state=0)\n",
    "X_train.shape"
   ]
  },
  {
   "cell_type": "code",
   "execution_count": 28,
   "metadata": {},
   "outputs": [],
   "source": [
    "from sklearn.feature_extraction.text import CountVectorizer\n",
    "count_vect = CountVectorizer()\n",
    "X_train_counts = count_vect.fit_transform(X_train)"
   ]
  },
  {
   "cell_type": "code",
   "execution_count": 29,
   "metadata": {},
   "outputs": [
    {
     "data": {
      "text/plain": [
       "array([[0, 0, 0, ..., 0, 0, 0],\n",
       "       [0, 0, 0, ..., 0, 0, 0],\n",
       "       [0, 0, 0, ..., 0, 0, 0],\n",
       "       ...,\n",
       "       [0, 0, 0, ..., 0, 0, 0],\n",
       "       [0, 0, 0, ..., 0, 0, 0],\n",
       "       [0, 0, 0, ..., 0, 0, 0]], dtype=int64)"
      ]
     },
     "execution_count": 29,
     "metadata": {},
     "output_type": "execute_result"
    }
   ],
   "source": [
    "X_train_counts.toarray()"
   ]
  },
  {
   "cell_type": "code",
   "execution_count": 30,
   "metadata": {},
   "outputs": [
    {
     "data": {
      "text/plain": [
       "(2100, 2807)"
      ]
     },
     "execution_count": 30,
     "metadata": {},
     "output_type": "execute_result"
    }
   ],
   "source": [
    "X_train_counts.shape"
   ]
  },
  {
   "cell_type": "code",
   "execution_count": 31,
   "metadata": {},
   "outputs": [
    {
     "data": {
      "text/plain": [
       "(2100, 2807)"
      ]
     },
     "execution_count": 31,
     "metadata": {},
     "output_type": "execute_result"
    }
   ],
   "source": [
    "from sklearn.feature_extraction.text import TfidfTransformer\n",
    "tfidf_transformer = TfidfTransformer()\n",
    "X_train_tfidf = tfidf_transformer.fit_transform(X_train_counts)\n",
    "X_train_tfidf.shape"
   ]
  },
  {
   "cell_type": "code",
   "execution_count": 32,
   "metadata": {},
   "outputs": [],
   "source": [
    "from sklearn.naive_bayes import MultinomialNB\n",
    "clf = MultinomialNB().fit(X_train_tfidf, y_train)"
   ]
  },
  {
   "cell_type": "code",
   "execution_count": 33,
   "metadata": {},
   "outputs": [
    {
     "data": {
      "text/plain": [
       "MultinomialNB(alpha=1.0, class_prior=None, fit_prior=True)"
      ]
     },
     "execution_count": 33,
     "metadata": {},
     "output_type": "execute_result"
    }
   ],
   "source": [
    "clf"
   ]
  },
  {
   "cell_type": "code",
   "execution_count": 54,
   "metadata": {},
   "outputs": [],
   "source": [
    "from sklearn.pipeline import Pipeline\n",
    "text_clf = Pipeline([('vect', CountVectorizer()),('tfidf', TfidfTransformer()),('clf', MultinomialNB()),])\n",
    "text_clf = text_clf.fit(X_train, y_train)"
   ]
  },
  {
   "cell_type": "code",
   "execution_count": 55,
   "metadata": {},
   "outputs": [
    {
     "data": {
      "text/plain": [
       "0.7388888888888889"
      ]
     },
     "execution_count": 55,
     "metadata": {},
     "output_type": "execute_result"
    }
   ],
   "source": [
    "import numpy as np\n",
    "predicted = text_clf.predict(X_test)\n",
    "text_clf.score(X_test,y_test)"
   ]
  },
  {
   "cell_type": "code",
   "execution_count": 52,
   "metadata": {},
   "outputs": [
    {
     "data": {
      "text/plain": [
       "array(['Network', 'Network', 'User Maintenance', 'Network', 'Database',\n",
       "       'Security', 'Security', 'Database', 'User Maintenance', 'Network',\n",
       "       'User Maintenance', 'User Maintenance', 'User Maintenance',\n",
       "       'Application', 'User Maintenance', 'Security', 'Network',\n",
       "       'Database', 'Application', 'Network', 'Security', 'Security',\n",
       "       'Network', 'User Maintenance', 'Network', 'Application', 'Network',\n",
       "       'Network', 'Network', 'Application', 'Network', 'User Maintenance',\n",
       "       'Security', 'Database', 'User Maintenance', 'Network',\n",
       "       'Application', 'User Maintenance', 'Security', 'User Maintenance',\n",
       "       'Application', 'Network', 'Network', 'Application', 'Application',\n",
       "       'Application', 'Database', 'Network', 'Network', 'Application',\n",
       "       'Application', 'User Maintenance', 'Database', 'Security',\n",
       "       'User Maintenance', 'Database', 'Security', 'Application',\n",
       "       'Network', 'Network', 'Security', 'Database', 'Network',\n",
       "       'User Maintenance', 'Security', 'Database', 'User Maintenance',\n",
       "       'Network', 'Network', 'Application', 'Security',\n",
       "       'User Maintenance', 'User Maintenance', 'Database',\n",
       "       'User Maintenance', 'Application', 'Application',\n",
       "       'User Maintenance', 'User Maintenance', 'User Maintenance',\n",
       "       'User Maintenance', 'Application', 'Database', 'Network',\n",
       "       'Database', 'Network', 'Application', 'User Maintenance',\n",
       "       'Security', 'Database', 'Security', 'User Maintenance', 'Database',\n",
       "       'Network', 'Application', 'Application', 'Application',\n",
       "       'Application', 'Application', 'Application', 'Database',\n",
       "       'Database', 'Network', 'Application', 'Application', 'Network',\n",
       "       'User Maintenance', 'User Maintenance', 'Application', 'Security',\n",
       "       'Security', 'User Maintenance', 'User Maintenance', 'Network',\n",
       "       'Security', 'Application', 'Security', 'User Maintenance',\n",
       "       'Application', 'Application', 'Network', 'Application', 'Security',\n",
       "       'Security', 'Database', 'Network', 'User Maintenance', 'Network',\n",
       "       'Database', 'Security', 'Application', 'Security', 'Database',\n",
       "       'Security', 'Application', 'Application', 'Security',\n",
       "       'User Maintenance', 'Database', 'Application', 'Network',\n",
       "       'Network', 'Security', 'Security', 'Application', 'Security',\n",
       "       'Security', 'Network', 'Application', 'Database', 'Database',\n",
       "       'Database', 'Security', 'Security', 'User Maintenance', 'Database',\n",
       "       'Security', 'Application', 'Application', 'Application',\n",
       "       'Database', 'Application', 'Application', 'Database', 'Database',\n",
       "       'Security', 'User Maintenance', 'Database', 'Network', 'Database',\n",
       "       'Application', 'Security', 'Security', 'User Maintenance',\n",
       "       'Security', 'Application', 'Network', 'User Maintenance',\n",
       "       'Database', 'Database', 'Application', 'User Maintenance',\n",
       "       'Network', 'User Maintenance', 'Network', 'User Maintenance',\n",
       "       'User Maintenance', 'Network', 'Network', 'Application',\n",
       "       'Security', 'Database', 'Application', 'Security',\n",
       "       'User Maintenance', 'Application', 'User Maintenance',\n",
       "       'Application', 'Database', 'Network', 'Database',\n",
       "       'User Maintenance', 'Application', 'Network', 'User Maintenance',\n",
       "       'User Maintenance', 'Network', 'Application', 'Security',\n",
       "       'User Maintenance', 'Network', 'Network', 'User Maintenance',\n",
       "       'Network', 'Security', 'Network', 'Network', 'Application',\n",
       "       'Network', 'Database', 'Application', 'Security', 'Security',\n",
       "       'Application', 'Network', 'Network', 'Security',\n",
       "       'User Maintenance', 'User Maintenance', 'User Maintenance',\n",
       "       'Security', 'User Maintenance', 'Application', 'User Maintenance',\n",
       "       'User Maintenance', 'Security', 'Security', 'Database',\n",
       "       'User Maintenance', 'Security', 'Network', 'Database', 'Database',\n",
       "       'Application', 'User Maintenance', 'Security', 'Security',\n",
       "       'User Maintenance', 'Network', 'Network', 'Network', 'Security',\n",
       "       'Security', 'Security', 'Network', 'Application', 'Network',\n",
       "       'Network', 'User Maintenance', 'Network', 'Security',\n",
       "       'Application', 'Application', 'Database', 'Application',\n",
       "       'Database', 'User Maintenance', 'Database', 'Security', 'Network',\n",
       "       'Database', 'Network', 'User Maintenance', 'Security', 'Database',\n",
       "       'Database', 'Security', 'Database', 'Security', 'Application',\n",
       "       'Security', 'Application', 'User Maintenance', 'Security',\n",
       "       'User Maintenance', 'Network', 'User Maintenance', 'Application',\n",
       "       'Application', 'Security', 'Application', 'Network',\n",
       "       'User Maintenance', 'User Maintenance', 'User Maintenance',\n",
       "       'Application', 'Security', 'Database', 'Application',\n",
       "       'Application', 'Network', 'Application', 'Database', 'Network',\n",
       "       'Database', 'Application', 'Network', 'Database', 'Database',\n",
       "       'Application', 'User Maintenance', 'Database', 'Database',\n",
       "       'Network', 'Network', 'Application', 'User Maintenance',\n",
       "       'Security', 'User Maintenance', 'Database', 'Database', 'Database',\n",
       "       'Database', 'Application', 'User Maintenance', 'Application',\n",
       "       'Security', 'Security', 'User Maintenance', 'Application',\n",
       "       'Security', 'Database', 'Application', 'Security', 'Application',\n",
       "       'Network', 'User Maintenance', 'Database', 'Application',\n",
       "       'Security', 'User Maintenance', 'Application', 'Security',\n",
       "       'Database', 'User Maintenance', 'Application', 'Network',\n",
       "       'User Maintenance', 'User Maintenance', 'Application', 'Database',\n",
       "       'Network', 'Application', 'Network', 'Database',\n",
       "       'User Maintenance', 'User Maintenance', 'Network', 'Database',\n",
       "       'Application', 'Network', 'Database', 'User Maintenance',\n",
       "       'Application', 'Network', 'Network', 'Application', 'Security',\n",
       "       'Application', 'Database', 'User Maintenance', 'Network',\n",
       "       'Application', 'Database', 'User Maintenance', 'User Maintenance',\n",
       "       'Database', 'User Maintenance', 'User Maintenance',\n",
       "       'User Maintenance', 'Network', 'Security', 'User Maintenance',\n",
       "       'User Maintenance', 'Security', 'Database', 'User Maintenance',\n",
       "       'User Maintenance', 'Network', 'Network', 'Network', 'Application',\n",
       "       'Application', 'User Maintenance', 'Application', 'Database',\n",
       "       'Database', 'Application', 'Application', 'Security', 'Database',\n",
       "       'User Maintenance', 'Application', 'User Maintenance',\n",
       "       'User Maintenance', 'Database', 'User Maintenance', 'Network',\n",
       "       'Application', 'Database', 'Network', 'Security', 'Network',\n",
       "       'Database', 'Database', 'Security', 'Database', 'Database',\n",
       "       'Database', 'Network', 'User Maintenance', 'Application',\n",
       "       'User Maintenance', 'Security', 'Application', 'Application',\n",
       "       'Security', 'Security', 'Security', 'Application',\n",
       "       'User Maintenance', 'Database', 'User Maintenance', 'Security',\n",
       "       'Application', 'User Maintenance', 'User Maintenance',\n",
       "       'User Maintenance', 'Network', 'Application', 'User Maintenance',\n",
       "       'User Maintenance', 'User Maintenance', 'Application',\n",
       "       'Application', 'Database', 'User Maintenance', 'User Maintenance',\n",
       "       'User Maintenance', 'Security', 'Network', 'Application',\n",
       "       'User Maintenance', 'Database', 'Network', 'Database', 'Database',\n",
       "       'Application', 'User Maintenance', 'Network', 'Network',\n",
       "       'User Maintenance', 'Security', 'Network', 'Database', 'Network',\n",
       "       'Application', 'User Maintenance', 'Database', 'Database',\n",
       "       'User Maintenance', 'Application', 'Application', 'Application',\n",
       "       'Security', 'Network', 'Security', 'User Maintenance',\n",
       "       'Application', 'User Maintenance', 'Security', 'User Maintenance',\n",
       "       'Database', 'Application', 'User Maintenance', 'User Maintenance',\n",
       "       'Database', 'Security', 'Security', 'Application', 'Database',\n",
       "       'User Maintenance', 'Database', 'Security', 'Network', 'Network',\n",
       "       'User Maintenance', 'User Maintenance', 'Network', 'Network',\n",
       "       'Database', 'Network', 'Security', 'Security', 'Application',\n",
       "       'Application', 'User Maintenance', 'User Maintenance', 'Database',\n",
       "       'User Maintenance', 'User Maintenance', 'User Maintenance',\n",
       "       'User Maintenance', 'User Maintenance', 'Application', 'Security',\n",
       "       'User Maintenance', 'Application', 'Database', 'Application',\n",
       "       'Network', 'User Maintenance', 'Application', 'Application',\n",
       "       'Network', 'Database', 'User Maintenance', 'Network',\n",
       "       'User Maintenance', 'Network', 'Security', 'Database',\n",
       "       'Application', 'Application', 'Database', 'User Maintenance',\n",
       "       'Security', 'Application', 'Security', 'Network', 'Database',\n",
       "       'Database', 'Security', 'Application', 'User Maintenance',\n",
       "       'User Maintenance', 'Security', 'Application', 'Database',\n",
       "       'User Maintenance', 'Database', 'Network', 'Network',\n",
       "       'Application', 'Application', 'User Maintenance', 'Application',\n",
       "       'Database', 'Database', 'Application', 'Security', 'Application',\n",
       "       'Security', 'User Maintenance', 'User Maintenance', 'Network',\n",
       "       'Network', 'Database', 'Network', 'Database', 'Security',\n",
       "       'Security', 'User Maintenance', 'Application', 'Application',\n",
       "       'User Maintenance', 'User Maintenance', 'Network', 'Application',\n",
       "       'Application', 'User Maintenance', 'Security', 'User Maintenance',\n",
       "       'Security', 'User Maintenance', 'Network', 'Database', 'Security',\n",
       "       'Database', 'Database', 'Application', 'Application',\n",
       "       'User Maintenance', 'User Maintenance', 'Network', 'Application',\n",
       "       'User Maintenance', 'Database', 'User Maintenance', 'Security',\n",
       "       'Security', 'User Maintenance', 'Database', 'Application',\n",
       "       'Application', 'Application', 'Database', 'Application', 'Network',\n",
       "       'Application', 'Network', 'User Maintenance', 'Database',\n",
       "       'Application', 'Network', 'Security', 'Security', 'Security',\n",
       "       'User Maintenance', 'Security', 'Database', 'Security',\n",
       "       'Application', 'Network', 'User Maintenance', 'Database',\n",
       "       'Network', 'Security', 'User Maintenance', 'Database',\n",
       "       'User Maintenance', 'Security', 'Network', 'User Maintenance',\n",
       "       'Application', 'Database', 'Database', 'Application',\n",
       "       'Application', 'User Maintenance', 'Security', 'Application',\n",
       "       'Network', 'Network', 'User Maintenance', 'Database', 'Database',\n",
       "       'Security', 'User Maintenance', 'User Maintenance', 'Network',\n",
       "       'Network', 'User Maintenance', 'Network', 'Network', 'Database',\n",
       "       'Database', 'Network', 'Security', 'Application', 'Security',\n",
       "       'Network', 'User Maintenance', 'Application', 'Security',\n",
       "       'Security', 'Database', 'Network', 'User Maintenance', 'Database',\n",
       "       'Network', 'Security', 'Database', 'User Maintenance',\n",
       "       'User Maintenance', 'Security', 'Application', 'Application',\n",
       "       'User Maintenance', 'Security', 'User Maintenance', 'Security',\n",
       "       'Network', 'User Maintenance', 'User Maintenance', 'Security',\n",
       "       'User Maintenance', 'Application', 'Application', 'Database',\n",
       "       'Application', 'Application', 'User Maintenance',\n",
       "       'User Maintenance', 'Network', 'User Maintenance', 'Network',\n",
       "       'User Maintenance', 'Application', 'User Maintenance', 'Security',\n",
       "       'Security', 'Database', 'Network', 'Database', 'Application',\n",
       "       'User Maintenance', 'Application', 'Security', 'User Maintenance',\n",
       "       'Security', 'Application', 'User Maintenance', 'Database',\n",
       "       'Security', 'Application', 'Network', 'Database', 'Security',\n",
       "       'Database', 'Security', 'Application', 'User Maintenance',\n",
       "       'Application', 'Security', 'Network', 'Application', 'Application',\n",
       "       'Application', 'Network', 'Network', 'Network', 'Application',\n",
       "       'Network', 'Database', 'Network', 'Database', 'Database',\n",
       "       'User Maintenance', 'Network', 'Database', 'Database', 'Database',\n",
       "       'Application', 'Network', 'Security', 'Security', 'Database',\n",
       "       'User Maintenance', 'User Maintenance', 'Application',\n",
       "       'User Maintenance', 'Network', 'User Maintenance', 'Application',\n",
       "       'Network', 'Database', 'Database', 'Security', 'User Maintenance',\n",
       "       'User Maintenance', 'Network', 'Network', 'User Maintenance',\n",
       "       'Application', 'User Maintenance', 'Security', 'Network',\n",
       "       'Application', 'User Maintenance', 'Database', 'Application',\n",
       "       'Security', 'Database', 'User Maintenance', 'User Maintenance',\n",
       "       'Database', 'Application', 'Application', 'Application',\n",
       "       'Database', 'Database', 'Application', 'Security', 'Database',\n",
       "       'Application', 'User Maintenance', 'Network', 'Application',\n",
       "       'Database', 'Network', 'Network', 'Application', 'Application',\n",
       "       'Database', 'Database', 'User Maintenance', 'Database',\n",
       "       'User Maintenance', 'Database', 'Network', 'Application',\n",
       "       'User Maintenance', 'Database', 'Security', 'Network', 'Security',\n",
       "       'Database', 'Network', 'User Maintenance', 'Database',\n",
       "       'Application', 'Security', 'User Maintenance', 'Database',\n",
       "       'Application', 'Network', 'Application', 'Database', 'Network',\n",
       "       'Database', 'Security', 'Network', 'Application', 'Application',\n",
       "       'Application', 'User Maintenance', 'User Maintenance', 'Security',\n",
       "       'User Maintenance', 'User Maintenance', 'Network',\n",
       "       'User Maintenance', 'User Maintenance', 'Database',\n",
       "       'User Maintenance', 'User Maintenance', 'User Maintenance',\n",
       "       'Security', 'Database', 'Security', 'Database', 'Security',\n",
       "       'User Maintenance', 'User Maintenance', 'User Maintenance',\n",
       "       'User Maintenance', 'Network', 'Security', 'Database',\n",
       "       'User Maintenance', 'User Maintenance', 'Network', 'Application',\n",
       "       'Database', 'Network', 'Application', 'Application',\n",
       "       'User Maintenance', 'Database', 'Network', 'Application',\n",
       "       'Security', 'Security', 'User Maintenance', 'Security',\n",
       "       'User Maintenance', 'Database', 'User Maintenance', 'Security',\n",
       "       'Security', 'Application', 'Security', 'Network',\n",
       "       'User Maintenance', 'User Maintenance', 'User Maintenance',\n",
       "       'Application', 'Security', 'Database', 'Database', 'Security',\n",
       "       'User Maintenance', 'Security', 'Application', 'Network',\n",
       "       'Application', 'Network', 'User Maintenance', 'Database',\n",
       "       'User Maintenance', 'Security', 'User Maintenance',\n",
       "       'User Maintenance', 'Security', 'User Maintenance',\n",
       "       'User Maintenance', 'Database', 'Application', 'Application'],\n",
       "      dtype='<U16')"
      ]
     },
     "execution_count": 52,
     "metadata": {},
     "output_type": "execute_result"
    }
   ],
   "source": [
    "predicted"
   ]
  },
  {
   "cell_type": "code",
   "execution_count": 83,
   "metadata": {},
   "outputs": [],
   "source": [
    "from sklearn.externals import joblib\n",
    "joblib.dump(text_clf, 'model.pkl')\n",
    "\n",
    "def stemSentence(sentence):\n",
    "    token_words = sentence.split()\n",
    "    token_words\n",
    "    stem_sentence = []\n",
    "    for word in token_words:\n",
    "        stem_sentence.append(snowball_stemmer.stem(word))\n",
    "        stem_sentence.append(\" \")\n",
    "    return \"\".join(stem_sentence)\n",
    "\n",
    "X_test1 = [stemSentence(\"Issue with wifi in 6th, 7th floor of UB City Building\")]\n",
    "    \n",
    "\n",
    "\n",
    "#type(X_test1)"
   ]
  },
  {
   "cell_type": "code",
   "execution_count": 84,
   "metadata": {},
   "outputs": [
    {
     "data": {
      "text/plain": [
       "['issu with wifi in 6th, 7th floor of ub citi build ']"
      ]
     },
     "execution_count": 84,
     "metadata": {},
     "output_type": "execute_result"
    }
   ],
   "source": [
    "X_test1"
   ]
  },
  {
   "cell_type": "code",
   "execution_count": 85,
   "metadata": {},
   "outputs": [],
   "source": [
    "X_test1=str(X_test1)\n"
   ]
  },
  {
   "cell_type": "code",
   "execution_count": 86,
   "metadata": {},
   "outputs": [],
   "source": [
    "def stop_words(sentence):\n",
    "    tokens = sentence.split()\n",
    "    ss =  [item for item in tokens if not item in stop]\n",
    "    return ' '.join(ss)\n",
    "\n",
    "\n",
    "X_test1=[stop_words(X_test1)]\n"
   ]
  },
  {
   "cell_type": "code",
   "execution_count": 87,
   "metadata": {},
   "outputs": [
    {
     "data": {
      "text/plain": [
       "1"
      ]
     },
     "execution_count": 87,
     "metadata": {},
     "output_type": "execute_result"
    }
   ],
   "source": [
    "len(X_test1)"
   ]
  },
  {
   "cell_type": "code",
   "execution_count": 88,
   "metadata": {},
   "outputs": [
    {
     "name": "stdout",
     "output_type": "stream",
     "text": [
      "Security\n",
      "[[0.05141019 0.20299375 0.14569486 0.3230041  0.2768971 ]]\n",
      "['Application' 'Database' 'Network' 'Security' 'User Maintenance']\n",
      "0.3230041008257519\n"
     ]
    }
   ],
   "source": [
    "predicted = text_clf.predict(X_test1)\n",
    "prob=text_clf.predict_proba(X_test1)\n",
    "print(str(predicted[0]))\n",
    "print(prob)\n",
    "print(text_clf.classes_)\n",
    "print(max(prob[0]))"
   ]
  },
  {
   "cell_type": "code",
   "execution_count": null,
   "metadata": {},
   "outputs": [],
   "source": []
  }
 ],
 "metadata": {
  "kernelspec": {
   "display_name": "Python 3",
   "language": "python",
   "name": "python3"
  },
  "language_info": {
   "codemirror_mode": {
    "name": "ipython",
    "version": 3
   },
   "file_extension": ".py",
   "mimetype": "text/x-python",
   "name": "python",
   "nbconvert_exporter": "python",
   "pygments_lexer": "ipython3",
   "version": "3.7.6"
  }
 },
 "nbformat": 4,
 "nbformat_minor": 4
}
